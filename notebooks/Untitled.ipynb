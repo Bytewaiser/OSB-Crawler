{
 "cells": [
  {
   "cell_type": "code",
   "execution_count": 30,
   "id": "567f28b2-e3bc-425d-bcd1-0f21dcd28a89",
   "metadata": {},
   "outputs": [],
   "source": [
    "import swifter\n",
    "import requests\n",
    "import pandas as pd\n",
    "\n",
    "import urllib3\n",
    "from urllib3.exceptions import InsecureRequestWarning\n",
    "\n",
    "# Suppress the warnings from urllib3\n",
    "urllib3.disable_warnings(category=InsecureRequestWarning)"
   ]
  },
  {
   "cell_type": "code",
   "execution_count": 31,
   "id": "e2a99961-4eb3-4c4d-9be5-1d7297f26b0b",
   "metadata": {},
   "outputs": [],
   "source": [
    "def check_valid_website(url):\n",
    "    try:\n",
    "        return True if requests.get(url, verify=False).status_code == 200 else False\n",
    "    except Exception:\n",
    "        return False"
   ]
  },
  {
   "cell_type": "code",
   "execution_count": 32,
   "id": "ebf6ee38-4658-42cb-a2c4-1f073a6069a3",
   "metadata": {},
   "outputs": [],
   "source": [
    "df = pd.read_csv(\"../data/aosb.csv\")"
   ]
  },
  {
   "cell_type": "code",
   "execution_count": 33,
   "id": "b0f6748b-5d01-4e76-8ae8-7f76e6bc110a",
   "metadata": {},
   "outputs": [],
   "source": [
    "df[\"Valid\"] = True"
   ]
  },
  {
   "cell_type": "code",
   "execution_count": 17,
   "id": "89ee5210-f7b6-40a0-b677-89cb4a8afaee",
   "metadata": {
    "scrolled": true
   },
   "outputs": [
    {
     "data": {
      "application/vnd.jupyter.widget-view+json": {
       "model_id": "b1937b359d0b404e87a5e75dfc2c8235",
       "version_major": 2,
       "version_minor": 0
      },
      "text/plain": [
       "Pandas Apply:   0%|          | 0/293 [00:00<?, ?it/s]"
      ]
     },
     "metadata": {},
     "output_type": "display_data"
    }
   ],
   "source": [
    "valid = df[~df.Website.isna()].Website.swifter.apply(check_valid_website)"
   ]
  },
  {
   "cell_type": "code",
   "execution_count": 35,
   "id": "6c0ac2ef-6c70-4260-b5f6-7e7035585b48",
   "metadata": {},
   "outputs": [],
   "source": [
    "df.loc[valid.index][\"Valid\"] = valid"
   ]
  },
  {
   "cell_type": "code",
   "execution_count": 25,
   "id": "dc9d4aac-d550-455d-867d-e987e7313ccb",
   "metadata": {},
   "outputs": [],
   "source": [
    "df1 = pd.read_csv(\"../data/oosb.csv\")\n",
    "df1[\"Valid\"] = True"
   ]
  },
  {
   "cell_type": "code",
   "execution_count": 28,
   "id": "f812ffa0-4001-40d0-93f3-7059c3091471",
   "metadata": {},
   "outputs": [
    {
     "data": {
      "text/plain": [
       "0      False\n",
       "1      False\n",
       "2       True\n",
       "3       True\n",
       "4      False\n",
       "       ...  \n",
       "100     True\n",
       "101     True\n",
       "102     True\n",
       "103    False\n",
       "104    False\n",
       "Name: Website, Length: 105, dtype: bool"
      ]
     },
     "execution_count": 28,
     "metadata": {},
     "output_type": "execute_result"
    }
   ],
   "source": [
    "df1.Website.isna()"
   ]
  }
 ],
 "metadata": {
  "kernelspec": {
   "display_name": "Python 3 (ipykernel)",
   "language": "python",
   "name": "python3"
  },
  "language_info": {
   "codemirror_mode": {
    "name": "ipython",
    "version": 3
   },
   "file_extension": ".py",
   "mimetype": "text/x-python",
   "name": "python",
   "nbconvert_exporter": "python",
   "pygments_lexer": "ipython3",
   "version": "3.11.3"
  }
 },
 "nbformat": 4,
 "nbformat_minor": 5
}
